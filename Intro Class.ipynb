{
 "cells": [
  {
   "cell_type": "markdown",
   "metadata": {},
   "source": [
    "# Hi, everybody!\n",
    "We are going to start with a get to know you game!"
   ]
  },
  {
   "cell_type": "code",
   "execution_count": 1,
   "metadata": {},
   "outputs": [
    {
     "name": "stdout",
     "output_type": "stream",
     "text": [
      "My name is: casey\n",
      "I am this old: 19\n",
      "I live in: atlanta\n",
      "Have you used Python before? Yes or no? no\n",
      "NO\n"
     ]
    }
   ],
   "source": [
    "name = input(\"My name is: \")\n",
    "age = input(\"I am this old: \")\n",
    "hometown = input(\"I live in: \")\n",
    "exp = input(\"Have you used Python before? Yes or no? \")\n",
    "print(exp.upper())\n",
    "if exp.upper() != \"YES\" and exp.upper() != \"NO\":\n",
    "    print(\"Please enter yes or no\")\n",
    "    exp = input(\"Have you used Python before? Yes or no? \") \n",
    "\n",
    "if exp.upper() == \"YES\":\n",
    "    exp_adv = input(\"What is your Python experience? \")\n",
    "print(\"Now for some fun questions!\")\n",
    "movie = input(\"What is your favorite movie? \")\n",
    "pet = input(\"If you could have any pet what would it be? \")\n",
    "\n",
    "print(\"\")\n",
    "if exp.upper() == \"YES\":\n",
    "    intro = \"{} is {} years old and lives in {}. They have used Python before. In fact, they have used it {}. Their favorite movie is {}, and if they could have any pet they would want a {}.\"\n",
    "    print(intro.format(name, age, hometown, exp_adv, movie, pet))\n",
    "else:\n",
    "    intro = \"{} is {} years old and lives in {}. They have not used Python before. Their favorite movie is {}, and if they could have any pet they would want a {}.\"\n",
    "    print(intro.format(name, age, hometown, movie, pet))\n"
   ]
  },
  {
   "cell_type": "code",
   "execution_count": null,
   "metadata": {},
   "outputs": [],
   "source": []
  },
  {
   "cell_type": "code",
   "execution_count": null,
   "metadata": {},
   "outputs": [],
   "source": []
  }
 ],
 "metadata": {
  "kernelspec": {
   "display_name": "Python 3",
   "language": "python",
   "name": "python3"
  },
  "language_info": {
   "codemirror_mode": {
    "name": "ipython",
    "version": 3
   },
   "file_extension": ".py",
   "mimetype": "text/x-python",
   "name": "python",
   "nbconvert_exporter": "python",
   "pygments_lexer": "ipython3",
   "version": "3.7.3"
  }
 },
 "nbformat": 4,
 "nbformat_minor": 2
}
